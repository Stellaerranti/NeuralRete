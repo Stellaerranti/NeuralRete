{
 "cells": [
  {
   "cell_type": "code",
   "execution_count": 1,
   "metadata": {},
   "outputs": [],
   "source": [
    "import tensorflow as tf\n",
    "import tensornets as nets\n",
    "import cv2\n",
    "import numpy as np\n",
    "import time\n",
    "import tensornets.datasets.coco as coco"
   ]
  },
  {
   "cell_type": "code",
   "execution_count": 2,
   "metadata": {},
   "outputs": [
    {
     "name": "stderr",
     "output_type": "stream",
     "text": [
      "WARNING: Logging before flag parsing goes to stderr.\n",
      "W1102 20:15:53.560917 10840 deprecation_wrapper.py:119] From I:\\Anaconda\\envs\\neural\\lib\\site-packages\\tensornets\\utils.py:238: The name tf.variable_scope is deprecated. Please use tf.compat.v1.variable_scope instead.\n",
      "\n",
      "W1102 20:15:53.773361 10840 deprecation_wrapper.py:119] From I:\\Anaconda\\envs\\neural\\lib\\site-packages\\tensornets\\utils.py:283: The name tf.get_variable_scope is deprecated. Please use tf.compat.v1.get_variable_scope instead.\n",
      "\n",
      "W1102 20:15:56.477125 10840 deprecation_wrapper.py:119] From I:\\Anaconda\\envs\\neural\\lib\\site-packages\\tensornets\\utils.py:246: The name tf.get_default_graph is deprecated. Please use tf.compat.v1.get_default_graph instead.\n",
      "\n",
      "W1102 20:15:56.478124 10840 deprecation_wrapper.py:119] From I:\\Anaconda\\envs\\neural\\lib\\site-packages\\tensornets\\utils.py:125: The name tf.get_collection is deprecated. Please use tf.compat.v1.get_collection instead.\n",
      "\n"
     ]
    }
   ],
   "source": [
    "inputs = tf.placeholder(tf.float32, [None, 416, 416, 3]) \n",
    "model = nets.YOLOv3COCO(inputs, nets.Darknet19)"
   ]
  },
  {
   "cell_type": "code",
   "execution_count": 3,
   "metadata": {},
   "outputs": [],
   "source": [
    "imge = np.array(nets.utils.load_img('YOLO_test.jpg', target_size=416, crop_size=416))\n",
    "img_to_show = cv2.cvtColor(np.uint8(imge[0]), cv2.COLOR_RGB2BGR)\n",
    "cv2.imshow(\"image\", img_to_show)\n",
    "cv2.waitKey(0)\n",
    "cv2.destroyAllWindows()"
   ]
  },
  {
   "cell_type": "code",
   "execution_count": 4,
   "metadata": {},
   "outputs": [],
   "source": [
    "def yolo(sess, image, threshold, classnames):    \n",
    "    image = model.preprocess(image)    \n",
    "    preds = sess.run(model.preds, {inputs: image})\n",
    "    boxes = np.array(model.get_boxes(preds, image.shape[1:3]))\n",
    "    img_to_show = cv2.cvtColor(np.uint8(imge[0]), cv2.COLOR_RGB2BGR)\n",
    "    for index, cls in enumerate(classnames):\n",
    "        if (len(boxes[index]) == 0) :\n",
    "            continue\n",
    "        for obj_box in boxes[index]: \n",
    "            if  (obj_box[4] > threshold) :                \n",
    "                cv2.rectangle(img_to_show,(obj_box[0],obj_box[1]),(obj_box[2],obj_box[3]),(0,255,0),1)\n",
    "                cv2.putText(img_to_show, \"{} {:.2f}\".format(cls, obj_box[4]), (obj_box[0],obj_box[1]), cv2.FONT_HERSHEY_SIMPLEX, .5, (0, 0, 255), lineType=cv2.LINE_AA)\n",
    "            else: continue\n",
    "    return img_to_show"
   ]
  },
  {
   "cell_type": "code",
   "execution_count": 5,
   "metadata": {},
   "outputs": [
    {
     "name": "stderr",
     "output_type": "stream",
     "text": [
      "W1102 20:15:59.795580 10840 deprecation_wrapper.py:119] From I:\\Anaconda\\envs\\neural\\lib\\site-packages\\tensornets\\utils.py:130: The name tf.GraphKeys is deprecated. Please use tf.compat.v1.GraphKeys instead.\n",
      "\n"
     ]
    }
   ],
   "source": [
    "imge = np.array(nets.utils.load_img('YOLO_test.jpg', target_size=416, crop_size=416))\n",
    "with tf.Session() as sess:\n",
    "    sess.run(model.pretrained())\n",
    "    result = yolo(sess, imge, 0.8 ,coco.classnames)\n",
    "\n",
    "cv2.imshow(\"image\", result)\n",
    "cv2.waitKey(0)\n",
    "cv2.destroyAllWindows()"
   ]
  },
  {
   "cell_type": "code",
   "execution_count": 22,
   "metadata": {},
   "outputs": [],
   "source": [
    "def crop_square(image):\n",
    "    y=image.shape[0]\n",
    "    x=image.shape[1]\n",
    "    x=(x/2) - y/2\n",
    "    int(x)\n",
    "    frame = image[0:int(y), int(x):int(x+y)]\n",
    "    return frame"
   ]
  },
  {
   "cell_type": "code",
   "execution_count": 24,
   "metadata": {},
   "outputs": [],
   "source": [
    "with tf.Session() as sess:\n",
    "    sess.run(model.pretrained())    \n",
    "    cap = cv2.VideoCapture(\"yolo_video.webm\")\n",
    "    while(cap.isOpened()): \n",
    "        ret, frame = cap.read()\n",
    "        if(not ret):\n",
    "            break\n",
    "        frame = cv2.cvtColor(frame, cv2.COLOR_BGR2RGB)\n",
    "        frame = crop_square(frame)\n",
    "        image_to_show = cv2.resize(frame,(416,416))\n",
    "        imge = np.array(image_to_show).reshape(-1,416,416,3)\n",
    "        img = yolo(sess, imge, 0.5, coco.classnames)  \n",
    "        cv2.imshow(\"image\",img)  \n",
    "        if cv2.waitKey(1) & 0xFF == ord('q'):\n",
    "            break          \n",
    "\n",
    "cap.release()\n",
    "cv2.destroyAllWindows() "
   ]
  },
  {
   "cell_type": "code",
   "execution_count": null,
   "metadata": {},
   "outputs": [],
   "source": []
  }
 ],
 "metadata": {
  "kernelspec": {
   "display_name": "Python 3",
   "language": "python",
   "name": "python3"
  },
  "language_info": {
   "codemirror_mode": {
    "name": "ipython",
    "version": 3
   },
   "file_extension": ".py",
   "mimetype": "text/x-python",
   "name": "python",
   "nbconvert_exporter": "python",
   "pygments_lexer": "ipython3",
   "version": "3.6.9"
  }
 },
 "nbformat": 4,
 "nbformat_minor": 2
}
